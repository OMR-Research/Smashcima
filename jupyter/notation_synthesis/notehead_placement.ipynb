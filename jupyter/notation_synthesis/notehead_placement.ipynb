{
 "cells": [
  {
   "cell_type": "markdown",
   "metadata": {},
   "source": [
    "# Notehead Placement\n",
    "\n",
    "This notebooks tests the placement of noteheads within one staff-event.\n",
    "\n",
    "Measures:\n",
    "1. Singular notehead, spaced out chords\n",
    "2. Shared noteheads, simple and chords\n",
    "3. Dense chords\n",
    "4. Same pitch cluster, with multiple voices - even MuseScore breaks down here\n",
    "5. Shared note chords that must be separate (having 3+ voices, MuseScore also breaks)"
   ]
  },
  {
   "cell_type": "code",
   "execution_count": null,
   "metadata": {},
   "outputs": [],
   "source": [
    "%load_ext autoreload\n",
    "%autoreload 2\n",
    "%env MC_ASSETS_CACHE=../../smashcima_assets"
   ]
  },
  {
   "cell_type": "code",
   "execution_count": null,
   "metadata": {},
   "outputs": [],
   "source": [
    "import cv2\n",
    "from IPython.display import Image\n",
    "from smashcima.orchestration.BaseHandwrittenModel import BaseHandwrittenModel\n",
    "\n",
    "model = BaseHandwrittenModel()\n",
    "scene = model(\"notehead_placement.musicxml\")\n",
    "Image(data=cv2.imencode(\".png\", scene.render(scene.pages[0]))[1], width=900)"
   ]
  }
 ],
 "metadata": {
  "kernelspec": {
   "display_name": ".venv",
   "language": "python",
   "name": "python3"
  },
  "language_info": {
   "codemirror_mode": {
    "name": "ipython",
    "version": 3
   },
   "file_extension": ".py",
   "mimetype": "text/x-python",
   "name": "python",
   "nbconvert_exporter": "python",
   "pygments_lexer": "ipython3",
   "version": "3.10.12"
  }
 },
 "nbformat": 4,
 "nbformat_minor": 2
}
