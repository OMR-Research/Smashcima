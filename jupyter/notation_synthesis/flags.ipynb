{
 "cells": [
  {
   "cell_type": "markdown",
   "metadata": {},
   "source": [
    "# Flags\n",
    "\n",
    "This notebooks tests the placement of flags.\n",
    "\n",
    "Measures:\n",
    "1. No flags on quarter notes\n",
    "2. Eighth and sixteenth notes, flag up and down\n",
    "3. Flags on chords"
   ]
  },
  {
   "cell_type": "code",
   "execution_count": null,
   "metadata": {},
   "outputs": [],
   "source": [
    "%load_ext autoreload\n",
    "%autoreload 2\n",
    "%env MC_ASSETS_CACHE=../../smashcima_assets"
   ]
  },
  {
   "cell_type": "code",
   "execution_count": null,
   "metadata": {},
   "outputs": [],
   "source": [
    "import cv2\n",
    "from IPython.display import Image\n",
    "from smashcima.orchestration.BaseHandwrittenModel import BaseHandwrittenModel\n",
    "\n",
    "model = BaseHandwrittenModel()\n",
    "scene = model(\"flags.musicxml\")\n",
    "Image(data=cv2.imencode(\".png\", scene.render(scene.pages[0]))[1], width=900)"
   ]
  }
 ],
 "metadata": {
  "kernelspec": {
   "display_name": ".venv",
   "language": "python",
   "name": "python3"
  },
  "language_info": {
   "codemirror_mode": {
    "name": "ipython",
    "version": 3
   },
   "file_extension": ".py",
   "mimetype": "text/x-python",
   "name": "python",
   "nbconvert_exporter": "python",
   "pygments_lexer": "ipython3",
   "version": "3.10.12"
  }
 },
 "nbformat": 4,
 "nbformat_minor": 2
}
