{
 "cells": [
  {
   "cell_type": "code",
   "execution_count": null,
   "metadata": {},
   "outputs": [],
   "source": [
    "%load_ext autoreload\n",
    "%autoreload 2\n",
    "%env MC_ASSETS_CACHE=../../smashcima_assets"
   ]
  },
  {
   "cell_type": "code",
   "execution_count": null,
   "metadata": {},
   "outputs": [],
   "source": [
    "import cv2\n",
    "from IPython.display import Image, display\n",
    "from smashcima.orchestration.BaseHandwrittenModel import BaseHandwrittenModel\n",
    "\n",
    "model = BaseHandwrittenModel()\n",
    "scene = model(\"../../testing/lc6247269.musicxml\") # input / lc6247269"
   ]
  },
  {
   "cell_type": "code",
   "execution_count": null,
   "metadata": {},
   "outputs": [],
   "source": [
    "from smashcima.exporting.NewBitmapRenderer import NewBitmapRenderer\n",
    "from smashcima.exporting.DefaultCompositor import DefaultCompositor\n",
    "from smashcima.exporting.NullPostprocessor import NullPostprocessor\n",
    "from smashcima.exporting.BaseHandwrittenPostprocessor import BaseHandwrittenPostprocessor\n",
    "\n",
    "# compositor = DefaultCompositor(NullPostprocessor())\n",
    "compositor = DefaultCompositor(BaseHandwrittenPostprocessor(model.rng))\n",
    "#layers = compositor.extract_layers(scene.pages[0].view_box, dpi=300)\n",
    "final_layer = compositor.run(scene.pages[0].view_box, dpi=300)\n",
    "\n",
    "renderer = NewBitmapRenderer()\n",
    "img = renderer.render(final_layer)\n",
    "\n",
    "# display(Image(data=cv2.imencode(\".png\", scene.render(scene.pages[0]))[1], width=900))\n",
    "display(Image(data=cv2.imencode(\".png\", img)[1], width=900))"
   ]
  }
 ],
 "metadata": {
  "kernelspec": {
   "display_name": ".venv",
   "language": "python",
   "name": "python3"
  },
  "language_info": {
   "codemirror_mode": {
    "name": "ipython",
    "version": 3
   },
   "file_extension": ".py",
   "mimetype": "text/x-python",
   "name": "python",
   "nbconvert_exporter": "python",
   "pygments_lexer": "ipython3",
   "version": "3.10.12"
  }
 },
 "nbformat": 4,
 "nbformat_minor": 2
}
