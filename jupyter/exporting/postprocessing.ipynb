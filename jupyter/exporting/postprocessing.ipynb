{
 "cells": [
  {
   "cell_type": "code",
   "execution_count": null,
   "metadata": {},
   "outputs": [],
   "source": [
    "%load_ext autoreload\n",
    "%autoreload 2\n",
    "%env MC_ASSETS_CACHE=../../smashcima_assets"
   ]
  },
  {
   "cell_type": "code",
   "execution_count": null,
   "metadata": {},
   "outputs": [],
   "source": [
    "import cv2\n",
    "from IPython.display import Image, display\n",
    "from smashcima.orchestration.BaseHandwrittenModel import BaseHandwrittenModel\n",
    "\n",
    "model = BaseHandwrittenModel()\n",
    "scene = model(\"../../testing/lc6247269.musicxml\") # input / lc6247269"
   ]
  },
  {
   "cell_type": "code",
   "execution_count": null,
   "metadata": {},
   "outputs": [],
   "source": [
    "from smashcima.exporting.BitmapRenderer import BitmapRenderer\n",
    "from smashcima.exporting import (DefaultCompositor, NullPostprocessor,\n",
    "                                 BaseHandwrittenPostprocessor)\n",
    "\n",
    "# postprocessor = NullPostprocessor()\n",
    "postprocessor = BaseHandwrittenPostprocessor(model.rng)\n",
    "# postprocessor.f_stafflines.force_dont = True\n",
    "# postprocessor.f_inkstyle.force_dont = True\n",
    "# postprocessor.f_bleed_through.force_dont = True\n",
    "# postprocessor.f_ink_color.force_dont = True\n",
    "# postprocessor.f_scribbles.force_dont = True\n",
    "# postprocessor.f_folding.force_dont = True\n",
    "# postprocessor.f_camera.force_dont = True\n",
    "\n",
    "compositor = DefaultCompositor(postprocessor)\n",
    "final_layer = compositor.run(scene.pages[0].view_box, dpi=300)\n",
    "\n",
    "renderer = BitmapRenderer()\n",
    "img = renderer.render(final_layer)\n",
    "\n",
    "display(Image(data=cv2.imencode(\".png\", img)[1], width=900))"
   ]
  }
 ],
 "metadata": {
  "kernelspec": {
   "display_name": ".venv",
   "language": "python",
   "name": "python3"
  },
  "language_info": {
   "codemirror_mode": {
    "name": "ipython",
    "version": 3
   },
   "file_extension": ".py",
   "mimetype": "text/x-python",
   "name": "python",
   "nbconvert_exporter": "python",
   "pygments_lexer": "ipython3",
   "version": "3.10.12"
  }
 },
 "nbformat": 4,
 "nbformat_minor": 2
}
