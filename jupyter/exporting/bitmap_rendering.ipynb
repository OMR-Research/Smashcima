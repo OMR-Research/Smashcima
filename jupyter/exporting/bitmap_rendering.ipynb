{
 "cells": [
  {
   "cell_type": "code",
   "execution_count": null,
   "metadata": {},
   "outputs": [],
   "source": [
    "%load_ext autoreload\n",
    "%autoreload 2\n",
    "%env MC_ASSETS_CACHE=../../smashcima_assets"
   ]
  },
  {
   "cell_type": "markdown",
   "metadata": {},
   "source": [
    "# Bitmap rendering visual test\n",
    "\n",
    "This notebook tests renderers that produce raster images from the scene."
   ]
  },
  {
   "cell_type": "code",
   "execution_count": null,
   "metadata": {},
   "outputs": [],
   "source": [
    "import cv2\n",
    "from IPython.display import Image\n",
    "from smashcima.scene import AffineSpace, ViewBox, Sprite\n",
    "from smashcima.geometry import Rectangle, Transform\n",
    "\n",
    "dpi = 72\n",
    "root_space = AffineSpace()\n",
    "view_box = ViewBox(\n",
    "    rectangle=Rectangle(0, 0, 100, 100),\n",
    "    space=root_space\n",
    ")\n",
    "\n",
    "s1 = Sprite.debug_box(root_space, rectangle=Rectangle(10, 10, 80, 20))\n",
    "s1.transform = Transform.rotateDegCC(10).then(s1.transform)\n",
    "\n",
    "s2 = Sprite.debug_box(root_space, rectangle=Rectangle(10, 40, 80, 20), dpi=5)\n",
    "s2.transform = Transform.rotateDegCC(10).then(s2.transform)\n",
    "\n",
    "s3 = Sprite.debug_box(\n",
    "    root_space,\n",
    "    rectangle=Rectangle(40, 40, 80, 20),\n",
    "    fill_color=(255, 255, 0, 64),\n",
    "    border_color=(255, 255, 0, 255),\n",
    "    dpi=150\n",
    ")\n",
    "s3.transform = Transform.rotateDegCC(-30).then(s3.transform)\n",
    "\n",
    "# this shold be culled away\n",
    "s4 = Sprite.debug_box(root_space, rectangle=Rectangle(-100, -100, 10, 10))\n",
    "\n",
    "print(s1.bitmap.shape)\n",
    "print(s2.bitmap.shape)\n",
    "print(s3.bitmap.shape)\n",
    "print(s4.bitmap.shape)\n",
    "Image(data=cv2.imencode(\".png\", s2.bitmap)[1], width=600)"
   ]
  },
  {
   "cell_type": "markdown",
   "metadata": {},
   "source": [
    "# OpenCV warp affine bitmap renderer"
   ]
  },
  {
   "cell_type": "code",
   "execution_count": null,
   "metadata": {},
   "outputs": [],
   "source": [
    "from smashcima.exporting.BitmapRenderer import BitmapRenderer\n",
    "bitmap = BitmapRenderer.default_viewbox_render(\n",
    "    view_box=view_box,\n",
    "    dpi=dpi\n",
    ")\n",
    "Image(data=cv2.imencode(\".png\", bitmap)[1], width=600)"
   ]
  }
 ],
 "metadata": {
  "kernelspec": {
   "display_name": ".venv",
   "language": "python",
   "name": "python3"
  },
  "language_info": {
   "codemirror_mode": {
    "name": "ipython",
    "version": 3
   },
   "file_extension": ".py",
   "mimetype": "text/x-python",
   "name": "python",
   "nbconvert_exporter": "python",
   "pygments_lexer": "ipython3",
   "version": "3.10.12"
  }
 },
 "nbformat": 4,
 "nbformat_minor": 2
}
