{
 "cells": [
  {
   "cell_type": "code",
   "execution_count": null,
   "metadata": {},
   "outputs": [],
   "source": [
    "%load_ext autoreload\n",
    "%autoreload 2\n",
    "%env MC_ASSETS_CACHE=../../smashcima_assets"
   ]
  },
  {
   "cell_type": "markdown",
   "metadata": {},
   "source": [
    "# SVG Exporting visual test\n",
    "\n",
    "This notebook lets you see what comes out of the SVG exporter for a sample scene."
   ]
  },
  {
   "cell_type": "code",
   "execution_count": null,
   "metadata": {},
   "outputs": [],
   "source": [
    "from IPython.display import SVG\n",
    "from smashcima.scene import Sprite, ViewBox, AffineSpace\n",
    "from smashcima.geometry import Rectangle, Transform\n",
    "\n",
    "root_space = AffineSpace()\n",
    "view_box = ViewBox(\n",
    "    rectangle=Rectangle(0, 0, 100, 100),\n",
    "    space=root_space\n",
    ")\n",
    "\n",
    "s1 = Sprite.debug_box(root_space, rectangle=Rectangle(10, 10, 80, 20))\n",
    "s1.transform = Transform.rotateDegCC(10).then(s1.transform)\n",
    "\n",
    "s2 = Sprite.debug_box(root_space, rectangle=Rectangle(10, 40, 80, 20), dpi=5)\n",
    "s2.transform = Transform.rotateDegCC(10).then(s2.transform)\n",
    "\n",
    "s3 = Sprite.debug_box(\n",
    "    root_space,\n",
    "    rectangle=Rectangle(40, 40, 80, 20),\n",
    "    fill_color=(255, 255, 0, 64),\n",
    "    border_color=(255, 255, 0, 255),\n",
    "    dpi=150\n",
    ")\n",
    "s3.transform = Transform.rotateDegCC(-30).then(s3.transform)\n"
   ]
  },
  {
   "cell_type": "code",
   "execution_count": null,
   "metadata": {},
   "outputs": [],
   "source": [
    "from smashcima.exporting import SvgExporter\n",
    "\n",
    "exporter = SvgExporter(background_fill=\"#D0756F\")\n",
    "svg = exporter.export_string(view_box, pretty=True)\n",
    "\n",
    "print(svg)\n",
    "display(SVG(data=svg))"
   ]
  },
  {
   "cell_type": "markdown",
   "metadata": {},
   "source": [
    "# SVG With Regions\n",
    "\n",
    "The SVG output can also contain region annotations:"
   ]
  },
  {
   "cell_type": "code",
   "execution_count": null,
   "metadata": {},
   "outputs": [],
   "source": [
    "from IPython.display import SVG, display\n",
    "import smashcima as sc\n",
    "\n",
    "model = sc.orchestration.BaseHandwrittenModel()\n",
    "scene = model(\"../notation_synthesis/beams.musicxml\")\n",
    "\n",
    "exporter = SvgExporter(render_labeled_regions=True)\n",
    "svg = exporter.export_string(scene.pages[0].view_box)\n",
    "display(SVG(svg))"
   ]
  }
 ],
 "metadata": {
  "kernelspec": {
   "display_name": ".venv",
   "language": "python",
   "name": "python3"
  },
  "language_info": {
   "codemirror_mode": {
    "name": "ipython",
    "version": 3
   },
   "file_extension": ".py",
   "mimetype": "text/x-python",
   "name": "python",
   "nbconvert_exporter": "python",
   "pygments_lexer": "ipython3",
   "version": "3.10.12"
  }
 },
 "nbformat": 4,
 "nbformat_minor": 2
}
