{
 "cells": [
  {
   "cell_type": "markdown",
   "metadata": {},
   "source": [
    "This notebook contains code to test and generate images for the tutorial."
   ]
  },
  {
   "cell_type": "code",
   "execution_count": null,
   "metadata": {},
   "outputs": [],
   "source": [
    "from IPython.display import Image, SVG, display\n",
    "import cv2\n",
    "import smashcima as sc"
   ]
  },
  {
   "cell_type": "code",
   "execution_count": null,
   "metadata": {},
   "outputs": [],
   "source": [
    "from smashcima.synthesis import PaperSynthesizer, SolidColorPaperSynthesizer\n",
    "\n",
    "class MyModel(sc.orchestration.BaseHandwrittenModel):\n",
    "    def register_services(self):\n",
    "        super().register_services()\n",
    "        \n",
    "        # for paper synthesizer use the solid color synth,\n",
    "        # instead of the texture-quilting default synthesizer\n",
    "        self.container.type(SolidColorPaperSynthesizer)\n",
    "        self.container.interface(\n",
    "            PaperSynthesizer, # interface\n",
    "            SolidColorPaperSynthesizer # implementation\n",
    "        )\n",
    "    \n",
    "    def resolve_services(self):\n",
    "        super().resolve_services()\n",
    "\n",
    "        # get the paper synthesizer instance\n",
    "        self.paper_synth: SolidColorPaperSynthesizer \\\n",
    "            = self.container.resolve(PaperSynthesizer)\n",
    "\n",
    "    def configure_services(self):\n",
    "        super().configure_services()\n",
    "\n",
    "        # and configure paper synthesizer's properties\n",
    "        # (BGRA uint8 format)\n",
    "        self.paper_synth.color = (187, 221, 234, 255)\n",
    "\n",
    "\n",
    "model = MyModel()\n",
    "scene = model(\"../../docs/assets/tutorial-1/lc5003150.musicxml\")\n",
    "\n",
    "bitmap = scene.render(scene.pages[0])\n",
    "display(Image(\n",
    "    data=cv2.imencode(\".png\", bitmap)[1],\n",
    "    width=900\n",
    "))"
   ]
  },
  {
   "cell_type": "code",
   "execution_count": null,
   "metadata": {},
   "outputs": [],
   "source": [
    "import random\n",
    "\n",
    "model = MyModel()\n",
    "resolved_rng = model.container.resolve(random.Random)\n",
    "field_rng = model.rng\n",
    "\n",
    "assert resolved_rng is field_rng # succeeds!"
   ]
  },
  {
   "cell_type": "code",
   "execution_count": null,
   "metadata": {},
   "outputs": [],
   "source": [
    "my_rng = random.Random(42)\n",
    "\n",
    "class MyRandomModel(sc.orchestration.BaseHandwrittenModel):\n",
    "    def register_services(self):\n",
    "        super().register_services()\n",
    "\n",
    "        self.container.instance(\n",
    "            random.Random, # when people ask for this\n",
    "            my_rng # return this\n",
    "        )\n",
    "\n",
    "model = MyRandomModel()\n",
    "assert model.rng is my_rng # succeeds!"
   ]
  }
 ],
 "metadata": {
  "kernelspec": {
   "display_name": ".venv",
   "language": "python",
   "name": "python3"
  },
  "language_info": {
   "codemirror_mode": {
    "name": "ipython",
    "version": 3
   },
   "file_extension": ".py",
   "mimetype": "text/x-python",
   "name": "python",
   "nbconvert_exporter": "python",
   "pygments_lexer": "ipython3",
   "version": "3.10.12"
  }
 },
 "nbformat": 4,
 "nbformat_minor": 2
}
