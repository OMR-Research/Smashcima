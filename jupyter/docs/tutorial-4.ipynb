{
 "cells": [
  {
   "cell_type": "markdown",
   "metadata": {},
   "source": [
    "This notebook contains code to test and generate images for the tutorial."
   ]
  },
  {
   "cell_type": "code",
   "execution_count": null,
   "metadata": {},
   "outputs": [],
   "source": [
    "from IPython.display import Image, SVG, display\n",
    "import cv2\n",
    "import smashcima as sc\n",
    "import numpy as np"
   ]
  },
  {
   "cell_type": "code",
   "execution_count": null,
   "metadata": {},
   "outputs": [],
   "source": [
    "class MyModel(sc.orchestration.BaseHandwrittenModel):\n",
    "    def register_services(self):\n",
    "        super().register_services()\n",
    "        \n",
    "        # for postprocessor use the base handwritten one,\n",
    "        # instead of the default NULL postprocessor\n",
    "        self.container.type(sc.BaseHandwrittenPostprocessor)\n",
    "        self.container.interface(\n",
    "            sc.Postprocessor, # when people ask for this\n",
    "            sc.BaseHandwrittenPostprocessor # construct this\n",
    "        )"
   ]
  },
  {
   "cell_type": "code",
   "execution_count": null,
   "metadata": {},
   "outputs": [],
   "source": [
    "model = MyModel()\n",
    "\n",
    "# forcing filters\n",
    "p: sc.BaseHandwrittenPostprocessor = model.postprocessor\n",
    "p.f_camera.force_dont = True\n",
    "p.f_scribbles.force_do = True\n",
    "\n",
    "scene = model(\"../../docs/assets/tutorial-1/lc5003150.musicxml\")\n",
    "\n",
    "bitmap = scene.render(scene.pages[0])\n",
    "display(Image(\n",
    "    data=cv2.imencode(\".png\", bitmap)[1],\n",
    "    width=900\n",
    "))"
   ]
  }
 ],
 "metadata": {
  "kernelspec": {
   "display_name": ".venv",
   "language": "python",
   "name": "python3"
  },
  "language_info": {
   "codemirror_mode": {
    "name": "ipython",
    "version": 3
   },
   "file_extension": ".py",
   "mimetype": "text/x-python",
   "name": "python",
   "nbconvert_exporter": "python",
   "pygments_lexer": "ipython3",
   "version": "3.10.12"
  }
 },
 "nbformat": 4,
 "nbformat_minor": 2
}
