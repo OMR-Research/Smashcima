{
 "cells": [
  {
   "cell_type": "markdown",
   "metadata": {},
   "source": [
    "This notebook contains code to test and generate images for the tutorial."
   ]
  },
  {
   "cell_type": "code",
   "execution_count": null,
   "metadata": {},
   "outputs": [],
   "source": [
    "from IPython.display import Image, SVG, display\n",
    "import cv2\n",
    "import smashcima as sc\n",
    "import numpy as np"
   ]
  },
  {
   "cell_type": "code",
   "execution_count": null,
   "metadata": {},
   "outputs": [],
   "source": [
    "class MyGlyphSynthesizer(sc.GlyphSynthesizer):\n",
    "    def supports_label(self, label: str) -> bool:\n",
    "        return # true if we can create this glyph type #\n",
    "\n",
    "    def create_glyph(self, label: str) -> sc.Glyph:\n",
    "        return # create requested glyph here #"
   ]
  },
  {
   "cell_type": "code",
   "execution_count": null,
   "metadata": {},
   "outputs": [],
   "source": [
    "print(sc.SmuflLabels.noteheadWhole.value) # \"smufl::noteheadWhole\"\n",
    "print(sc.SmuflLabels.noteheadBlack.value) # \"smufl::noteheadBlack\"\n",
    "print(sc.SmuflLabels.restQuarter.value)   # \"smufl::restQuarter\"\n",
    "\n",
    "print(sc.SmashcimaLabels.beam.value) # \"smashcima::beam\"\n",
    "print(sc.SmashcimaLabels.staffMeasure.value) # \"smashcima::staffMeasure\""
   ]
  },
  {
   "cell_type": "code",
   "execution_count": null,
   "metadata": {},
   "outputs": [],
   "source": [
    "space = sc.AffineSpace()\n",
    "\n",
    "size = int(sc.mm_to_px(3, dpi=300))\n",
    "bitmap = np.zeros(shape=(size, size, 4), dtype=np.uint8)\n",
    "cv2.circle(\n",
    "    img=bitmap,\n",
    "    center=(size // 2, size // 2),\n",
    "    radius=size // 2,\n",
    "    color=(0, 0, 255, 255), # BGRA\n",
    "    thickness=-1\n",
    ")\n",
    "\n",
    "# display(Image(\n",
    "#     data=cv2.imencode(\".png\", bitmap)[1],\n",
    "# ))\n",
    "\n",
    "sprite = sc.Sprite(\n",
    "    space=space,\n",
    "    bitmap=bitmap,\n",
    "    bitmap_origin=sc.Point(0.5, 0.5),\n",
    "    dpi=300,\n",
    "    transform=sc.Transform.identity()\n",
    ")\n",
    "\n",
    "region: sc.LabeledRegion = sc.Glyph.build_region_from_sprites_alpha_channel(\n",
    "    label=\"smufl::noteheadBlack\",\n",
    "    sprites=[sprite]\n",
    ")\n",
    "\n",
    "assert region.space is sprite.space # succeeds!\n",
    "assert region.space is space # succeeds!"
   ]
  },
  {
   "cell_type": "code",
   "execution_count": null,
   "metadata": {},
   "outputs": [],
   "source": [
    "class RedCircleGlyphSynth(sc.GlyphSynthesizer):\n",
    "    def supports_label(self, label: str) -> bool:\n",
    "        return True\n",
    "\n",
    "    def create_glyph(self, label: str) -> sc.Glyph:\n",
    "        space = sc.AffineSpace()\n",
    "\n",
    "        size = int(sc.mm_to_px(3, dpi=300))\n",
    "        bitmap = np.zeros(shape=(size, size, 4), dtype=np.uint8)\n",
    "        cv2.circle(\n",
    "            img=bitmap,\n",
    "            center=(size // 2, size // 2),\n",
    "            radius=size // 2,\n",
    "            color=(0, 0, 255, 255), # BGRA\n",
    "            thickness=-1\n",
    "        )\n",
    "\n",
    "        sprite = sc.Sprite(\n",
    "            space=space,\n",
    "            bitmap=bitmap,\n",
    "            bitmap_origin=sc.Point(0.5, 0.5),\n",
    "            dpi=300,\n",
    "            transform=sc.Transform.identity()\n",
    "        )\n",
    "\n",
    "        return sc.Glyph(\n",
    "            space=space,\n",
    "            region=sc.Glyph.build_region_from_sprites_alpha_channel(\n",
    "                label=label,\n",
    "                sprites=[sprite]\n",
    "            ),\n",
    "            sprites=[sprite]\n",
    "        )"
   ]
  },
  {
   "cell_type": "code",
   "execution_count": null,
   "metadata": {},
   "outputs": [],
   "source": [
    "class RedCircleModel(sc.orchestration.BaseHandwrittenModel):\n",
    "    def register_services(self):\n",
    "        super().register_services()\n",
    "\n",
    "        # register a different implementation for the interface        \n",
    "        self.container.type(RedCircleGlyphSynth)\n",
    "        self.container.interface(\n",
    "            sc.GlyphSynthesizer,\n",
    "            RedCircleGlyphSynth\n",
    "        )"
   ]
  },
  {
   "cell_type": "code",
   "execution_count": null,
   "metadata": {},
   "outputs": [],
   "source": [
    "model = RedCircleModel()\n",
    "scene = model(\"../../docs/assets/tutorial-1/lc5003150.musicxml\")\n",
    "\n",
    "bitmap = scene.render(scene.pages[0])\n",
    "display(Image(\n",
    "    data=cv2.imencode(\".png\", bitmap)[1],\n",
    "    width=900\n",
    "))"
   ]
  }
 ],
 "metadata": {
  "kernelspec": {
   "display_name": ".venv",
   "language": "python",
   "name": "python3"
  },
  "language_info": {
   "codemirror_mode": {
    "name": "ipython",
    "version": 3
   },
   "file_extension": ".py",
   "mimetype": "text/x-python",
   "name": "python",
   "nbconvert_exporter": "python",
   "pygments_lexer": "ipython3",
   "version": "3.10.12"
  }
 },
 "nbformat": 4,
 "nbformat_minor": 2
}
