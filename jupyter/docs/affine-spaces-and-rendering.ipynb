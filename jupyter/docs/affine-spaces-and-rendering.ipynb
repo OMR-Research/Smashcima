{
 "cells": [
  {
   "cell_type": "code",
   "execution_count": null,
   "metadata": {},
   "outputs": [],
   "source": [
    "from IPython.display import SVG, Image, display\n",
    "from dataclasses import dataclass\n",
    "import smashcima as sc\n",
    "import numpy as np\n",
    "import cv2"
   ]
  },
  {
   "cell_type": "code",
   "execution_count": null,
   "metadata": {},
   "outputs": [],
   "source": [
    "root_space = sc.AffineSpace()\n",
    "child_space = sc.AffineSpace(\n",
    "    parent_space=root_space,\n",
    "    transform=sc.Transform.translate(sc.Vector2(10, 20))\n",
    ")"
   ]
  },
  {
   "cell_type": "code",
   "execution_count": null,
   "metadata": {},
   "outputs": [],
   "source": [
    "point_in_child_coords = sc.Point(-1, 0)\n",
    "point_in_root_coords = child_space.transform.apply_to(\n",
    "    point_in_child_coords\n",
    ")\n",
    "print(point_in_root_coords) # prints (9, 20)"
   ]
  },
  {
   "cell_type": "code",
   "execution_count": null,
   "metadata": {},
   "outputs": [],
   "source": [
    "child_space.transform = sc.Transform.rotateDegCC(180) \\\n",
    "    .then(sc.Transform.translate(sc.Vector2(10, 20)))\n",
    "\n",
    "# now probing the same point, in a 180deg rotated child space:\n",
    "point_in_child_coords = sc.Point(-1, 0)\n",
    "point_in_root_coords = child_space.transform.apply_to(\n",
    "    point_in_child_coords\n",
    ")\n",
    "print(point_in_root_coords) # prints (11, 20)"
   ]
  },
  {
   "cell_type": "code",
   "execution_count": null,
   "metadata": {},
   "outputs": [],
   "source": [
    "print(sc.mm_to_px(1, dpi=300)) # 12.295081967213116\n",
    "print(sc.px_to_mm(1, dpi=300)) # 0.08133333333333333"
   ]
  }
 ],
 "metadata": {
  "kernelspec": {
   "display_name": ".venv",
   "language": "python",
   "name": "python3"
  },
  "language_info": {
   "codemirror_mode": {
    "name": "ipython",
    "version": 3
   },
   "file_extension": ".py",
   "mimetype": "text/x-python",
   "name": "python",
   "nbconvert_exporter": "python",
   "pygments_lexer": "ipython3",
   "version": "3.10.12"
  }
 },
 "nbformat": 4,
 "nbformat_minor": 2
}
