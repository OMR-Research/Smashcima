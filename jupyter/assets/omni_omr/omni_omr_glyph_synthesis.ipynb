{
 "cells": [
  {
   "cell_type": "code",
   "execution_count": null,
   "metadata": {},
   "outputs": [],
   "source": [
    "%load_ext autoreload\n",
    "%autoreload 2\n",
    "%env MC_ASSETS_CACHE=../../../smashcima_assets"
   ]
  },
  {
   "cell_type": "code",
   "execution_count": null,
   "metadata": {},
   "outputs": [],
   "source": [
    "import cv2\n",
    "from IPython.display import Image\n",
    "from smashcima.orchestration.OmniOMRModel import OmniOMRModel\n",
    "from smashcima.synthesis.style.OmniOMRStyleDomain import OmniOMRStyleDomain\n",
    "\n",
    "model = OmniOMRModel()\n",
    "\n",
    "# control the style\n",
    "style_domain = model.container.resolve(OmniOMRStyleDomain)\n",
    "# style_domain.all_styles = [\"5c5a6d8c-b434-4496-a9ac-67d518230273\"] # typeset\n",
    "# style_domain.all_styles = [\"30d6c780-c8fe-11e7-9c14-005056827e51\"] # typeset2\n",
    "# style_domain.all_styles = [\"86f8017f-c0c3-4d88-949e-e6f18aafd1c6\"] # handwritten\n",
    "# style_domain.all_styles = [\"combine-all-styles\"] # all-styles\n",
    "\n",
    "scene = model(\"../../../testing/lc6247269.musicxml\") # input / lc6247269\n",
    "Image(data=cv2.imencode(\".png\", scene.render(scene.pages[0]))[1], width=900)"
   ]
  }
 ],
 "metadata": {
  "kernelspec": {
   "display_name": ".venv",
   "language": "python",
   "name": "python3"
  },
  "language_info": {
   "codemirror_mode": {
    "name": "ipython",
    "version": 3
   },
   "file_extension": ".py",
   "mimetype": "text/x-python",
   "name": "python",
   "nbconvert_exporter": "python",
   "pygments_lexer": "ipython3",
   "version": "3.10.12"
  }
 },
 "nbformat": 4,
 "nbformat_minor": 2
}
