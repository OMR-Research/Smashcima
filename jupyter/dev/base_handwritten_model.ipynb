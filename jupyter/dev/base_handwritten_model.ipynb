{
 "cells": [
  {
   "cell_type": "code",
   "execution_count": null,
   "metadata": {},
   "outputs": [],
   "source": [
    "%load_ext autoreload\n",
    "%autoreload 2\n",
    "%env MC_ASSETS_CACHE=../../smashcima_assets"
   ]
  },
  {
   "cell_type": "code",
   "execution_count": null,
   "metadata": {},
   "outputs": [],
   "source": [
    "import cv2\n",
    "from IPython.display import Image, display\n",
    "import smashcima as sc\n",
    "\n",
    "model = sc.orchestration.BaseHandwrittenModel()\n",
    "\n",
    "from smashcima.synthesis.notation.column.ColumnMusicNotationSynthesizer import ColumnMusicNotationSynthesizer\n",
    "ns: ColumnMusicNotationSynthesizer = model.notation_synthesizer\n",
    "ns.disable_wrapping = False\n",
    "ns.respect_line_and_page_breaks = False\n",
    "\n",
    "# model(\"../../testing/input.musicxml\")\n",
    "# scene = model(\"../../testing/lc6247269.musicxml\")\n",
    "scene = model(\"../../shark_tank/sharks/musicxml/20250212_omr-output-chords.musicxml\")\n",
    "\n",
    "print(\"Writer:\", scene.mpp_writer)\n",
    "print(\"Background:\", scene.mzk_background_patch.mzk_uuid)\n",
    "for page in scene.pages:\n",
    "    display(Image(\n",
    "        data=cv2.imencode(\".png\", scene.render(page))[1],\n",
    "        width=900\n",
    "    ))"
   ]
  }
 ],
 "metadata": {
  "kernelspec": {
   "display_name": ".venv",
   "language": "python",
   "name": "python3"
  },
  "language_info": {
   "codemirror_mode": {
    "name": "ipython",
    "version": 3
   },
   "file_extension": ".py",
   "mimetype": "text/x-python",
   "name": "python",
   "nbconvert_exporter": "python",
   "pygments_lexer": "ipython3",
   "version": "3.10.12"
  }
 },
 "nbformat": 4,
 "nbformat_minor": 2
}
